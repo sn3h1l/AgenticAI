{
 "cells": [
  {
   "cell_type": "code",
   "execution_count": 19,
   "id": "90d26081",
   "metadata": {},
   "outputs": [
    {
     "data": {
      "text/plain": [
       "True"
      ]
     },
     "execution_count": 19,
     "metadata": {},
     "output_type": "execute_result"
    }
   ],
   "source": [
    "from langchain_openai import ChatOpenAI\n",
    "from dotenv import load_dotenv\n",
    "from pydantic import BaseModel,Field\n",
    "from langgraph.graph import StateGraph,START, END\n",
    "from typing import TypedDict, Literal, Annotated,Literal\n",
    "from langchain_core.messages import SystemMessage, HumanMessage,BaseMessage\n",
    "import operator\n",
    "from langgraph.graph import add_messages\n",
    "from langgraph.checkpoint.memory import InMemorySaver\n",
    "\n",
    "load_dotenv()"
   ]
  },
  {
   "cell_type": "code",
   "execution_count": 20,
   "id": "3ad6ecda",
   "metadata": {},
   "outputs": [
    {
     "name": "stderr",
     "output_type": "stream",
     "text": [
      "E0000 00:00:1758877821.646981   82729 alts_credentials.cc:93] ALTS creds ignored. Not running on GCP and untrusted ALTS is not enabled.\n"
     ]
    }
   ],
   "source": [
    "from langchain_google_genai import ChatGoogleGenerativeAI\n",
    "\n",
    "bot = ChatGoogleGenerativeAI(\n",
    "    model=\"gemini-2.5-flash\",\n",
    ")"
   ]
  },
  {
   "cell_type": "code",
   "execution_count": 14,
   "id": "6b7857e7",
   "metadata": {},
   "outputs": [],
   "source": [
    "class ChatState(TypedDict):\n",
    "    messages: Annotated[list[BaseMessage],add_messages]\n"
   ]
  },
  {
   "cell_type": "code",
   "execution_count": 15,
   "id": "0a5f434b",
   "metadata": {},
   "outputs": [],
   "source": [
    "def chat(state: ChatState) -> ChatState:\n",
    "    message_history=state[\"messages\"]\n",
    "    response=bot.invoke(message_history)\n",
    "    return {\"messages\":[response]}  # this statement appends an AI Message object in the messages_list"
   ]
  },
  {
   "cell_type": "code",
   "execution_count": null,
   "id": "f82d3075",
   "metadata": {},
   "outputs": [
    {
     "ename": "NameError",
     "evalue": "name 'StateGraph' is not defined",
     "output_type": "error",
     "traceback": [
      "\u001b[31m---------------------------------------------------------------------------\u001b[39m",
      "\u001b[31mNameError\u001b[39m                                 Traceback (most recent call last)",
      "\u001b[36mCell\u001b[39m\u001b[36m \u001b[39m\u001b[32mIn[1]\u001b[39m\u001b[32m, line 1\u001b[39m\n\u001b[32m----> \u001b[39m\u001b[32m1\u001b[39m graph=\u001b[43mStateGraph\u001b[49m(ChatState)\n\u001b[32m      3\u001b[39m graph.add_node(\u001b[33m\"\u001b[39m\u001b[33mchat_bot\u001b[39m\u001b[33m\"\u001b[39m,chat)\n\u001b[32m      4\u001b[39m graph.add_edge(START,\u001b[33m\"\u001b[39m\u001b[33mchat_bot\u001b[39m\u001b[33m\"\u001b[39m)\n",
      "\u001b[31mNameError\u001b[39m: name 'StateGraph' is not defined"
     ]
    }
   ],
   "source": [
    "graph=StateGraph(ChatState)\n",
    "checkpoint_saver= InMemorySaver()\n",
    "graph.add_node(\"chat_bot\",chat)\n",
    "graph.add_edge(START,\"chat_bot\")\n",
    "graph.add_edge(\"chat_bot\",END)\n",
    "workflow= graph.compile(checkpointer=checkpoint_saver)\n",
    "\n",
    "# graph.compile()"
   ]
  },
  {
   "cell_type": "code",
   "execution_count": null,
   "id": "488a8100",
   "metadata": {},
   "outputs": [
    {
     "name": "stdout",
     "output_type": "stream",
     "text": [
      "Bot: Hello! How can I help you today?\n",
      "Bot: Okay, Snehil.\n",
      "Bot: As an AI, I don't know your name. I don't have access to personal information about you.\n",
      "\n",
      "If you'd like me to refer to you by a specific name during our conversation, you're welcome to tell me!\n"
     ]
    }
   ],
   "source": [
    "while True:\n",
    "    user_input=input(\"Enter your message (or type 'exit' to quit): \")\n",
    "    if user_input.lower() in [\"exit\",\"quit\"]:\n",
    "        break\n",
    "    initial_state={\"messages\":[HumanMessage(content=user_input)]}\n",
    "    congfig={\"configurable\":{\"thread_id\":\"first_thread\"}}\n",
    "    final_state= workflow.invoke(initial_state,config=congfig)\n",
    "    print(\"Bot:\",final_state[\"messages\"][-1].content)"
   ]
  },
  {
   "cell_type": "code",
   "execution_count": null,
   "id": "8c8f25a9",
   "metadata": {},
   "outputs": [],
   "source": []
  }
 ],
 "metadata": {
  "kernelspec": {
   "display_name": ".agenticai",
   "language": "python",
   "name": "python3"
  },
  "language_info": {
   "codemirror_mode": {
    "name": "ipython",
    "version": 3
   },
   "file_extension": ".py",
   "mimetype": "text/x-python",
   "name": "python",
   "nbconvert_exporter": "python",
   "pygments_lexer": "ipython3",
   "version": "3.12.3"
  }
 },
 "nbformat": 4,
 "nbformat_minor": 5
}
