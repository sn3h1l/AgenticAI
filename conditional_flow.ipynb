{
 "cells": [
  {
   "cell_type": "code",
   "execution_count": 13,
   "id": "9b0ba3af",
   "metadata": {},
   "outputs": [
    {
     "data": {
      "text/plain": [
       "True"
      ]
     },
     "execution_count": 13,
     "metadata": {},
     "output_type": "execute_result"
    }
   ],
   "source": [
    "from langchain_openai import ChatOpenAI\n",
    "from langgraph.graph import StateGraph, START, END\n",
    "from typing import TypedDict,Annotated, Literal\n",
    "import operator\n",
    "from dotenv import load_dotenv\n",
    "from pydantic import BaseModel,Field\n",
    "load_dotenv()"
   ]
  },
  {
   "cell_type": "code",
   "execution_count": 14,
   "id": "2e508ada",
   "metadata": {},
   "outputs": [],
   "source": [
    "class values(TypedDict):\n",
    "    a: int\n",
    "    b: int\n",
    "    choice : int\n",
    "    result : int \n",
    "    equation : str"
   ]
  },
  {
   "cell_type": "code",
   "execution_count": 19,
   "id": "548f7f22",
   "metadata": {},
   "outputs": [],
   "source": [
    "def show_values(state: values):\n",
    "    return {\"equation\" : f\"a={state[\"a\"]}, b={state[\"b\"]}\"}\n",
    "\n",
    "\n",
    "def sub(state: values):\n",
    "    result=state[\"a\"]-state[\"b\"]\n",
    "    return {\"result\":result}\n",
    "\n",
    "def add(state: values):\n",
    "    result=state[\"a\"]+state[\"b\"]\n",
    "    return {\"result\":result}\n",
    "\n",
    "\n",
    "def show_result(state: values):\n",
    "    print(state[\"result\"])\n",
    "    return\n",
    "\n",
    "\n",
    "def choose_function(state :values):\n",
    "    if state[\"choice\"]==1:\n",
    "        return \"add\"\n",
    "    else: return \"sub\""
   ]
  },
  {
   "cell_type": "code",
   "execution_count": 20,
   "id": "38831689",
   "metadata": {},
   "outputs": [
    {
     "data": {
      "image/png": "[encoded data removed]",
      "text/plain": [
       "<langgraph.graph.state.CompiledStateGraph object at 0x7a94a6d26540>"
      ]
     },
     "execution_count": 20,
     "metadata": {},
     "output_type": "execute_result"
    }
   ],
   "source": [
    "graph=StateGraph(values)\n",
    "\n",
    "graph.add_node(\"show_values\",show_values)\n",
    "graph.add_node(\"add\",add)\n",
    "graph.add_node(\"sub\",sub)\n",
    "graph.add_node(\"show_result\",show_result)\n",
    "\n",
    "graph.add_edge(START,\"show_values\")\n",
    "graph.add_conditional_edges(\"show_values\",choose_function)\n",
    "graph.add_edge(\"add\",\"show_result\")\n",
    "graph.add_edge(\"sub\",\"show_result\")\n",
    "graph.add_edge(\"show_result\",END)\n",
    "\n",
    "graph.compile()"
   ]
  },
  {
   "cell_type": "code",
   "execution_count": 21,
   "id": "c0994fb9",
   "metadata": {},
   "outputs": [
    {
     "name": "stdout",
     "output_type": "stream",
     "text": [
      "-1\n",
      "{'a': 1, 'b': 2, 'choice': 2, 'result': -1, 'equation': 'a=1, b=2'}\n"
     ]
    }
   ],
   "source": [
    "workflow=graph.compile()\n",
    "ini_state={\"a\":1,\"b\":2,\"choice\":2}\n",
    "final_state=workflow.invoke(ini_state)\n",
    "print(final_state)"
   ]
  },
  {
   "cell_type": "code",
   "execution_count": null,
   "id": "bc637955",
   "metadata": {},
   "outputs": [],
   "source": []
  }
 ],
 "metadata": {
  "kernelspec": {
   "display_name": ".agenticai",
   "language": "python",
   "name": "python3"
  },
  "language_info": {
   "codemirror_mode": {
    "name": "ipython",
    "version": 3
   },
   "file_extension": ".py",
   "mimetype": "text/x-python",
   "name": "python",
   "nbconvert_exporter": "python",
   "pygments_lexer": "ipython3",
   "version": "3.12.3"
  }
 },
 "nbformat": 4,
 "nbformat_minor": 5
}
