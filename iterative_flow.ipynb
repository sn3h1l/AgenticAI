{
 "cells": [
  {
   "cell_type": "code",
   "execution_count": 31,
   "id": "7dae0778",
   "metadata": {},
   "outputs": [
    {
     "data": {
      "text/plain": [
       "True"
      ]
     },
     "execution_count": 31,
     "metadata": {},
     "output_type": "execute_result"
    }
   ],
   "source": [
    "from langchain_openai import ChatOpenAI\n",
    "from langgraph.graph import StateGraph, START, END\n",
    "from typing import TypedDict,Annotated,Literal\n",
    "import operator\n",
    "from dotenv import load_dotenv\n",
    "from pydantic import BaseModel,Field\n",
    "load_dotenv()"
   ]
  },
  {
   "cell_type": "code",
   "execution_count": 32,
   "id": "3a691ebb",
   "metadata": {},
   "outputs": [],
   "source": [
    "class value(TypedDict):\n",
    "    current_value: int\n",
    "    target_value: int\n",
    "    iteratons: int\n",
    "    status: Literal[\"yes\",\"no\"]\n",
    "    result: str"
   ]
  },
  {
   "cell_type": "code",
   "execution_count": null,
   "id": "67cfcbd8",
   "metadata": {},
   "outputs": [],
   "source": [
    "import random\n",
    "\n",
    "def generate(state: value) -> value:\n",
    "    current_value=random.randint(0,10)\n",
    "    return {\"current_value\": current_value}\n",
    "\n",
    "\n",
    "def increase(state:value) -> value:\n",
    "    current_value=state[\"current_value\"] +1\n",
    "    iterations=state[\"iteratons\"]+1\n",
    "    return {\"current_value\": current_value, \"iteratons\": iterations}\n",
    "\n",
    "def add_result(state:value) -> value:\n",
    "    # result=\n",
    "    return {\"result\": f\"Reached target value {state['target_value']} in {state['iteratons']} iterations\"}\n",
    "\n",
    "\n",
    "def check_target(state:value) -> value:\n",
    "    if state[\"current_value\"] == state[\"target_value\"]:\n",
    "        print(\"returning yes\")\n",
    "        return {\"status\":\"yes\"}\n",
    "    else:\n",
    "        print(\"returning no\")\n",
    "        return {\"status\":\"no\"}\n",
    "    \n",
    "def router(state: value) -> Literal[\"yes\", \"no\"]:\n",
    "    if state[\"status\"] == \"yes\":\n",
    "        return \"yes\"\n",
    "    else:\n",
    "        return \"no\""
   ]
  },
  {
   "cell_type": "code",
   "execution_count": 54,
   "id": "b7cc3501",
   "metadata": {},
   "outputs": [
    {
     "data": {
      "text/plain": [
       "<langgraph.graph.state.StateGraph at 0x7b3b1c568080>"
      ]
     },
     "execution_count": 54,
     "metadata": {},
     "output_type": "execute_result"
    }
   ],
   "source": [
    "graph=StateGraph(value)\n",
    "\n",
    "graph.add_node(\"generate\",generate)\n",
    "graph.add_node(\"check_target\",check_target)\n",
    "graph.add_node(\"increase\",increase)\n",
    "graph.add_node(\"add_result\",add_result)\n",
    "\n",
    "\n",
    "graph.add_edge(START,\"generate\")\n",
    "graph.add_edge(\"generate\",\"check_target\")\n",
    "graph.add_conditional_edges(\"check_target\",router,{\"yes\":\"add_result\",\"no\":\"increase\"})\n",
    "graph.add_edge(\"increase\",\"check_target\")\n",
    "graph.add_edge(\"add_result\",END)\n",
    "\n",
    "# graph.compile()"
   ]
  },
  {
   "cell_type": "code",
   "execution_count": 55,
   "id": "62ddb505",
   "metadata": {},
   "outputs": [
    {
     "name": "stdout",
     "output_type": "stream",
     "text": [
      "returning no\n",
      "returning no\n",
      "returning no\n",
      "returning no\n",
      "returning no\n",
      "returning no\n",
      "returning yes\n"
     ]
    }
   ],
   "source": [
    "initial_state={\"target_value\":15,\"iteratons\":0,\"status\":\"no\",\"result\":\"\"}\n",
    "workflow=graph.compile()\n",
    "final_state=workflow.invoke(initial_state)"
   ]
  },
  {
   "cell_type": "code",
   "execution_count": 56,
   "id": "90d38bb7",
   "metadata": {},
   "outputs": [
    {
     "data": {
      "text/plain": [
       "{'current_value': 15,\n",
       " 'target_value': 15,\n",
       " 'iteratons': 6,\n",
       " 'status': 'yes',\n",
       " 'result': 'Reached target value 15 in 6 iterations'}"
      ]
     },
     "execution_count": 56,
     "metadata": {},
     "output_type": "execute_result"
    }
   ],
   "source": [
    "final_state"
   ]
  },
  {
   "cell_type": "code",
   "execution_count": null,
   "id": "60398ea7",
   "metadata": {},
   "outputs": [],
   "source": []
  }
 ],
 "metadata": {
  "kernelspec": {
   "display_name": ".agenticai",
   "language": "python",
   "name": "python3"
  },
  "language_info": {
   "codemirror_mode": {
    "name": "ipython",
    "version": 3
   },
   "file_extension": ".py",
   "mimetype": "text/x-python",
   "name": "python",
   "nbconvert_exporter": "python",
   "pygments_lexer": "ipython3",
   "version": "3.12.3"
  }
 },
 "nbformat": 4,
 "nbformat_minor": 5
}
