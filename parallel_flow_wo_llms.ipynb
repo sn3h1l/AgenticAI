{
 "cells": [
  {
   "cell_type": "code",
   "execution_count": 1,
   "id": "d39fa666",
   "metadata": {},
   "outputs": [
    {
     "data": {
      "text/plain": [
       "True"
      ]
     },
     "execution_count": 1,
     "metadata": {},
     "output_type": "execute_result"
    }
   ],
   "source": [
    "from langchain_openai import ChatOpenAI\n",
    "from langgraph.graph import StateGraph, START, END\n",
    "from typing import TypedDict\n",
    "from dotenv import load_dotenv\n",
    "\n",
    "load_dotenv()"
   ]
  },
  {
   "cell_type": "code",
   "execution_count": 2,
   "id": "28f23a0d",
   "metadata": {},
   "outputs": [],
   "source": [
    "class cricketState(TypedDict):\n",
    "    runs:int\n",
    "    balls: int \n",
    "    fours:int \n",
    "    sixs:int\n",
    "    bpb : float\n",
    "    sr:float\n",
    "    summary: str \n"
   ]
  },
  {
   "cell_type": "code",
   "execution_count": 3,
   "id": "cd2ccfc2",
   "metadata": {},
   "outputs": [
    {
     "data": {
      "image/png": "[encoded data removed]",
      "text/plain": [
       "<langgraph.graph.state.CompiledStateGraph object at 0x7297c4be9a00>"
      ]
     },
     "execution_count": 3,
     "metadata": {},
     "output_type": "execute_result"
    }
   ],
   "source": [
    "def calulate_sr(state: cricketState) -> cricketState:\n",
    "    return {\"sr\" :100.0 }\n",
    "\n",
    "\n",
    "def calculate_bpb(state: cricketState) -> cricketState:\n",
    "    return {\"bpb\":1.0}\n",
    "\n",
    "def summary(state: cricketState) -> cricketState:\n",
    "    \n",
    "    return {\"summary\":\"This is the summary\"}\n",
    "\n",
    "# model = ChatOpenAI(model=\"gpt-4o-mini\")\n",
    "\n",
    "graph = StateGraph(cricketState)\n",
    "\n",
    "\n",
    "graph.add_node(\"calculate_bpb\", calculate_bpb)\n",
    "graph.add_node(\"calculate_sr\", calulate_sr)\n",
    "graph.add_node(\"summary\",summary)\n",
    "\n",
    "\n",
    "\n",
    "graph.add_edge(START, \"calculate_bpb\")\n",
    "graph.add_edge(START, \"calculate_sr\")\n",
    "graph.add_edge(\"calculate_sr\", \"summary\")\n",
    "graph.add_edge(\"calculate_bpb\",\"summary\")\n",
    "graph.add_edge(\"summary\",END) \n",
    "graph.compile()"
   ]
  },
  {
   "cell_type": "code",
   "execution_count": 5,
   "id": "12c67b2b",
   "metadata": {},
   "outputs": [],
   "source": [
    "ini_state={ \n",
    "    \"runs\":100,\n",
    "    \"balls\": 100, \n",
    "    \"fours\":10, \n",
    "    \"sixs\":1,\n",
    "    \"bpb\" : 0.0,\n",
    "    \"sr\":0.0,\n",
    "    \"summary\": \"\" }\n",
    "\n",
    "workflow=graph.compile()\n",
    "final_state=workflow.invoke(ini_state)"
   ]
  },
  {
   "cell_type": "code",
   "execution_count": 6,
   "id": "7f72fa13",
   "metadata": {},
   "outputs": [
    {
     "data": {
      "text/plain": [
       "{'runs': 100,\n",
       " 'balls': 100,\n",
       " 'fours': 10,\n",
       " 'sixs': 1,\n",
       " 'bpb': 1.0,\n",
       " 'sr': 100.0,\n",
       " 'summary': 'This is the summary'}"
      ]
     },
     "execution_count": 6,
     "metadata": {},
     "output_type": "execute_result"
    }
   ],
   "source": [
    "final_state"
   ]
  },
  {
   "cell_type": "code",
   "execution_count": 7,
   "id": "22c11ff0",
   "metadata": {},
   "outputs": [
    {
     "data": {
      "text/plain": [
       "{'runs': 100,\n",
       " 'balls': 100,\n",
       " 'fours': 10,\n",
       " 'sixs': 1,\n",
       " 'bpb': 0.0,\n",
       " 'sr': 0.0,\n",
       " 'summary': ''}"
      ]
     },
     "execution_count": 7,
     "metadata": {},
     "output_type": "execute_result"
    }
   ],
   "source": [
    "ini_state"
   ]
  },
  {
   "cell_type": "code",
   "execution_count": null,
   "id": "92eda680",
   "metadata": {},
   "outputs": [],
   "source": []
  }
 ],
 "metadata": {
  "kernelspec": {
   "display_name": ".agenticai",
   "language": "python",
   "name": "python3"
  },
  "language_info": {
   "codemirror_mode": {
    "name": "ipython",
    "version": 3
   },
   "file_extension": ".py",
   "mimetype": "text/x-python",
   "name": "python",
   "nbconvert_exporter": "python",
   "pygments_lexer": "ipython3",
   "version": "3.12.3"
  }
 },
 "nbformat": 4,
 "nbformat_minor": 5
}
