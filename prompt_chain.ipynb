{
 "cells": [
  {
   "cell_type": "code",
   "execution_count": null,
   "id": "29ece470",
   "metadata": {},
   "outputs": [],
   "source": [
    "class blogstate(TypedDict):\n",
    "    topic: str\n",
    "    outline: str\n",
    "    blog: str\n",
    "\n",
    "\n",
    "def create_outline(state: blogstate) -> blogstate:\n",
    "    topic = state[\"topic\"]\n",
    "    prompt = f\"Create a detailed outline for a blog post about {topic}\"\n",
    "    response = model.invoke(prompt).content\n",
    "    state[\"outline\"] = response\n",
    "    return state\n",
    "\n",
    "\n",
    "def create_blog(state: blogstate) -> blogstate:\n",
    "    outline = state[\"outline\"]\n",
    "    print(\"Outline\", outline)\n",
    "    prompt = f\"Write a detailed blog post based on the following outline:\\n{outline}\"\n",
    "    response = model.invoke(prompt).content\n",
    "    print(\"response\", response)\n",
    "    state[\"blog\"] = response\n",
    "\n",
    "    return state\n",
    "\n",
    "model = ChatOpenAI(model=\"gpt-4o-mini\")\n",
    "graph = StateGraph(blogstate)\n",
    "\n",
    "\n",
    "graph.add_node(\"Outline\", create_outline)\n",
    "graph.add_node(\"Blog\", create_blog)\n",
    "\n",
    "\n",
    "graph.add_edge(START, \"Outline\")\n",
    "graph.add_edge(\"Outline\", \"Blog\")\n",
    "graph.add_edge(\"Blog\", END) \n",
    "graph.compile()"
   ]
  },
  {
   "cell_type": "code",
   "execution_count": null,
   "id": "f544549b",
   "metadata": {},
   "outputs": [],
   "source": []
  }
 ],
 "metadata": {
  "kernelspec": {
   "display_name": ".agenticai",
   "language": "python",
   "name": "python3"
  },
  "language_info": {
   "codemirror_mode": {
    "name": "ipython",
    "version": 3
   },
   "file_extension": ".py",
   "mimetype": "text/x-python",
   "name": "python",
   "nbconvert_exporter": "python",
   "pygments_lexer": "ipython3",
   "version": "3.12.3"
  }
 },
 "nbformat": 4,
 "nbformat_minor": 5
}
